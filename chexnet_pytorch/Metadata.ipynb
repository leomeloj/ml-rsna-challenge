{
 "cells": [
  {
   "cell_type": "code",
   "execution_count": 1,
   "metadata": {},
   "outputs": [
    {
     "name": "stdout",
     "output_type": "stream",
     "text": [
      "Available GPU count:1\n",
      "0.3.1\n"
     ]
    }
   ],
   "source": [
    "import visualize_prediction as V\n",
    "import eval_model as E\n",
    "import model as M\n",
    "import pandas as pd\n",
    "from torchvision import transforms, utils\n",
    "import torch\n",
    "\n",
    "#suppress pytorch warnings about source code changes\n",
    "import warnings\n",
    "warnings.filterwarnings('ignore')\n",
    "print(torch.__version__)"
   ]
  },
  {
   "cell_type": "code",
   "execution_count": 2,
   "metadata": {},
   "outputs": [],
   "source": [
    "PATH_TO_IMAGES = \"../../dataset/\"\n",
    "PATH_TO_METADATA = \"../kernels/\"\n",
    "PATH_TO_MODEL = \"results/checkpoint\""
   ]
  },
  {
   "cell_type": "code",
   "execution_count": null,
   "metadata": {},
   "outputs": [],
   "source": [
    "#pred,auc,_ = M.train_full_meta(PATH_TO_IMAGES, PATH_TO_METADATA, 0.0001, 0.1)"
   ]
  },
  {
   "cell_type": "code",
   "execution_count": 3,
   "metadata": {},
   "outputs": [
    {
     "name": "stdout",
     "output_type": "stream",
     "text": [
      "0\n",
      "160\n",
      "320\n",
      "480\n",
      "640\n",
      "800\n",
      "960\n",
      "1120\n",
      "1280\n",
      "1440\n",
      "1600\n",
      "1760\n",
      "1920\n",
      "2080\n",
      "2240\n",
      "2400\n",
      "2560\n",
      "2720\n",
      "2880\n",
      "3040\n",
      "3200\n",
      "3360\n",
      "3520\n",
      "3680\n",
      "3840\n",
      "4000\n",
      "4160\n",
      "4320\n",
      "4480\n",
      "4640\n",
      "4800\n",
      "4960\n",
      "5120\n"
     ]
    }
   ],
   "source": [
    "checkpoint_best = torch.load('results/checkpoint')\n",
    "model = checkpoint_best['model']\n",
    "\n",
    "mean = [0.485, 0.456, 0.406]\n",
    "std = [0.229, 0.224, 0.225]\n",
    "\n",
    "data_transforms = {\n",
    "        'train': transforms.Compose([\n",
    "            transforms.RandomHorizontalFlip(),\n",
    "            transforms.Scale(224),\n",
    "            # because scale doesn't always give 224 x 224, this ensures 224 x\n",
    "            # 224\n",
    "            transforms.CenterCrop(224),\n",
    "            transforms.ToTensor(),\n",
    "            transforms.Normalize(mean, std)\n",
    "        ]),\n",
    "        'val': transforms.Compose([\n",
    "            transforms.Scale(224),\n",
    "            transforms.CenterCrop(224),\n",
    "            transforms.ToTensor(),\n",
    "            transforms.Normalize(mean, std)\n",
    "        ]),\n",
    "    }\n",
    "\n",
    "model.cuda()\n",
    "\n",
    "preds, aucs = E.make_pred_multilabel_meta(data_transforms, model, PATH_TO_IMAGES, PATH_TO_METADATA)"
   ]
  },
  {
   "cell_type": "code",
   "execution_count": 5,
   "metadata": {},
   "outputs": [
    {
     "name": "stdout",
     "output_type": "stream",
     "text": [
      "       label       auc\n",
      "0  Pneumonia  0.890339\n"
     ]
    }
   ],
   "source": [
    "print(aucs)"
   ]
  }
 ],
 "metadata": {
  "kernelspec": {
   "display_name": "Python 3",
   "language": "python",
   "name": "python3"
  },
  "language_info": {
   "codemirror_mode": {
    "name": "ipython",
    "version": 3
   },
   "file_extension": ".py",
   "mimetype": "text/x-python",
   "name": "python",
   "nbconvert_exporter": "python",
   "pygments_lexer": "ipython3",
   "version": "3.5.2"
  }
 },
 "nbformat": 4,
 "nbformat_minor": 2
}

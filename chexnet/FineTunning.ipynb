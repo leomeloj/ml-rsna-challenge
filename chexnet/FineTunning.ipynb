{
 "cells": [
  {
   "cell_type": "code",
   "execution_count": 1,
   "metadata": {},
   "outputs": [
    {
     "name": "stdout",
     "output_type": "stream",
     "text": [
      "Available GPU count:1\n"
     ]
    }
   ],
   "source": [
    "import visualize_prediction as V\n",
    "import model as M\n",
    "import pandas as pd\n",
    "\n",
    "#suppress pytorch warnings about source code changes\n",
    "import warnings\n",
    "warnings.filterwarnings('ignore')"
   ]
  },
  {
   "cell_type": "code",
   "execution_count": 2,
   "metadata": {},
   "outputs": [],
   "source": [
    "PATH_TO_IMAGES = \"dataset/\""
   ]
  },
  {
   "cell_type": "code",
   "execution_count": null,
   "metadata": {},
   "outputs": [
    {
     "name": "stdout",
     "output_type": "stream",
     "text": [
      "Epoch 1/100\n",
      "----------\n",
      "train epoch 1:loss 0.0884 with data size 23191\n",
      "val epoch 1:loss 0.0879 with data size 5797\n",
      "saving\n",
      "Epoch 2/100\n",
      "----------\n",
      "train epoch 2:loss 0.0890 with data size 23191\n",
      "val epoch 2:loss 0.0850 with data size 5797\n",
      "saving\n",
      "Epoch 3/100\n",
      "----------\n",
      "train epoch 3:loss 0.0882 with data size 23191\n",
      "val epoch 3:loss 0.0975 with data size 5797\n",
      "decay loss from 0.1 to 0.01 as not seeing improvement in val loss\n",
      "created new optimizer with LR 0.01\n",
      "Epoch 4/100\n",
      "----------\n",
      "train epoch 4:loss 0.0837 with data size 23191\n",
      "val epoch 4:loss 0.0820 with data size 5797\n",
      "saving\n",
      "Epoch 5/100\n",
      "----------\n",
      "train epoch 5:loss 0.0836 with data size 23191\n",
      "val epoch 5:loss 0.0829 with data size 5797\n",
      "decay loss from 0.01 to 0.001 as not seeing improvement in val loss\n",
      "created new optimizer with LR 0.001\n",
      "Epoch 6/100\n",
      "----------\n"
     ]
    }
   ],
   "source": [
    "preds,aucs = M.train_cnn(PATH_TO_IMAGES, 0.1, 0.5)"
   ]
  },
  {
   "cell_type": "code",
   "execution_count": null,
   "metadata": {},
   "outputs": [],
   "source": []
  }
 ],
 "metadata": {
  "kernelspec": {
   "display_name": "py35env",
   "language": "python",
   "name": "py35env"
  },
  "language_info": {
   "codemirror_mode": {
    "name": "ipython",
    "version": 3
   },
   "file_extension": ".py",
   "mimetype": "text/x-python",
   "name": "python",
   "nbconvert_exporter": "python",
   "pygments_lexer": "ipython3",
   "version": "3.5.2"
  }
 },
 "nbformat": 4,
 "nbformat_minor": 2
}

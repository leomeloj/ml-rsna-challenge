{
 "cells": [
  {
   "cell_type": "code",
   "execution_count": 2,
   "metadata": {},
   "outputs": [],
   "source": [
    "import numpy as np \n",
    "import pandas as pd\n",
    "import matplotlib.pyplot as plt\n",
    "import seaborn as sns\n",
    "\n",
    "import pydicom\n",
    "\n",
    "import gc\n",
    "import warnings\n",
    "\n",
    "warnings.simplefilter(action = 'ignore')\n",
    "from sklearn.linear_model import SGDRegressor, SGDClassifier\n",
    "from sklearn.metrics import roc_auc_score, mean_absolute_error\n",
    "from sklearn.model_selection import KFold"
   ]
  },
  {
   "cell_type": "code",
   "execution_count": 3,
   "metadata": {},
   "outputs": [
    {
     "name": "stdout",
     "output_type": "stream",
     "text": [
      "<class 'pandas.core.frame.DataFrame'>\n",
      "Int64Index: 37629 entries, 0 to 37628\n",
      "Data columns (total 7 columns):\n",
      "patientId    37629 non-null object\n",
      "class        37629 non-null object\n",
      "x            16957 non-null float64\n",
      "y            16957 non-null float64\n",
      "width        16957 non-null float64\n",
      "height       16957 non-null float64\n",
      "Target       37629 non-null int64\n",
      "dtypes: float64(4), int64(1), object(2)\n",
      "memory usage: 2.3+ MB\n"
     ]
    }
   ],
   "source": [
    "detailed_class_info = pd.read_csv('../data/stage_2_detailed_class_info.csv')\n",
    "train_labels = pd.read_csv('../data/stage_2_train_labels.csv')\n",
    "\n",
    "df = pd.merge(left = detailed_class_info, right = train_labels, how = 'left', on = 'patientId')\n",
    "\n",
    "del detailed_class_info, train_labels\n",
    "gc.collect()\n",
    "\n",
    "df.info(null_counts = True)"
   ]
  },
  {
   "cell_type": "code",
   "execution_count": 4,
   "metadata": {},
   "outputs": [
    {
     "data": {
      "text/html": [
       "<div>\n",
       "<style scoped>\n",
       "    .dataframe tbody tr th:only-of-type {\n",
       "        vertical-align: middle;\n",
       "    }\n",
       "\n",
       "    .dataframe tbody tr th {\n",
       "        vertical-align: top;\n",
       "    }\n",
       "\n",
       "    .dataframe thead th {\n",
       "        text-align: right;\n",
       "    }\n",
       "</style>\n",
       "<table border=\"1\" class=\"dataframe\">\n",
       "  <thead>\n",
       "    <tr style=\"text-align: right;\">\n",
       "      <th></th>\n",
       "      <th>patientId</th>\n",
       "      <th>class</th>\n",
       "      <th>x</th>\n",
       "      <th>y</th>\n",
       "      <th>width</th>\n",
       "      <th>height</th>\n",
       "      <th>Target</th>\n",
       "    </tr>\n",
       "  </thead>\n",
       "  <tbody>\n",
       "    <tr>\n",
       "      <th>0</th>\n",
       "      <td>0004cfab-14fd-4e49-80ba-63a80b6bddd6</td>\n",
       "      <td>No Lung Opacity / Not Normal</td>\n",
       "      <td>NaN</td>\n",
       "      <td>NaN</td>\n",
       "      <td>NaN</td>\n",
       "      <td>NaN</td>\n",
       "      <td>0</td>\n",
       "    </tr>\n",
       "    <tr>\n",
       "      <th>1</th>\n",
       "      <td>00313ee0-9eaa-42f4-b0ab-c148ed3241cd</td>\n",
       "      <td>No Lung Opacity / Not Normal</td>\n",
       "      <td>NaN</td>\n",
       "      <td>NaN</td>\n",
       "      <td>NaN</td>\n",
       "      <td>NaN</td>\n",
       "      <td>0</td>\n",
       "    </tr>\n",
       "    <tr>\n",
       "      <th>2</th>\n",
       "      <td>00322d4d-1c29-4943-afc9-b6754be640eb</td>\n",
       "      <td>No Lung Opacity / Not Normal</td>\n",
       "      <td>NaN</td>\n",
       "      <td>NaN</td>\n",
       "      <td>NaN</td>\n",
       "      <td>NaN</td>\n",
       "      <td>0</td>\n",
       "    </tr>\n",
       "    <tr>\n",
       "      <th>3</th>\n",
       "      <td>003d8fa0-6bf1-40ed-b54c-ac657f8495c5</td>\n",
       "      <td>Normal</td>\n",
       "      <td>NaN</td>\n",
       "      <td>NaN</td>\n",
       "      <td>NaN</td>\n",
       "      <td>NaN</td>\n",
       "      <td>0</td>\n",
       "    </tr>\n",
       "    <tr>\n",
       "      <th>4</th>\n",
       "      <td>00436515-870c-4b36-a041-de91049b9ab4</td>\n",
       "      <td>Lung Opacity</td>\n",
       "      <td>264.0</td>\n",
       "      <td>152.0</td>\n",
       "      <td>213.0</td>\n",
       "      <td>379.0</td>\n",
       "      <td>1</td>\n",
       "    </tr>\n",
       "  </tbody>\n",
       "</table>\n",
       "</div>"
      ],
      "text/plain": [
       "                              patientId                         class      x  \\\n",
       "0  0004cfab-14fd-4e49-80ba-63a80b6bddd6  No Lung Opacity / Not Normal    NaN   \n",
       "1  00313ee0-9eaa-42f4-b0ab-c148ed3241cd  No Lung Opacity / Not Normal    NaN   \n",
       "2  00322d4d-1c29-4943-afc9-b6754be640eb  No Lung Opacity / Not Normal    NaN   \n",
       "3  003d8fa0-6bf1-40ed-b54c-ac657f8495c5                        Normal    NaN   \n",
       "4  00436515-870c-4b36-a041-de91049b9ab4                  Lung Opacity  264.0   \n",
       "\n",
       "       y  width  height  Target  \n",
       "0    NaN    NaN     NaN       0  \n",
       "1    NaN    NaN     NaN       0  \n",
       "2    NaN    NaN     NaN       0  \n",
       "3    NaN    NaN     NaN       0  \n",
       "4  152.0  213.0   379.0       1  "
      ]
     },
     "execution_count": 4,
     "metadata": {},
     "output_type": "execute_result"
    }
   ],
   "source": [
    "df.head()"
   ]
  },
  {
   "cell_type": "code",
   "execution_count": 5,
   "metadata": {},
   "outputs": [
    {
     "name": "stdout",
     "output_type": "stream",
     "text": [
      "<class 'pandas.core.frame.DataFrame'>\n",
      "Int64Index: 30227 entries, 0 to 37626\n",
      "Data columns (total 7 columns):\n",
      "patientId    30227 non-null object\n",
      "class        30227 non-null object\n",
      "x            9555 non-null float64\n",
      "y            9555 non-null float64\n",
      "width        9555 non-null float64\n",
      "height       9555 non-null float64\n",
      "Target       30227 non-null int64\n",
      "dtypes: float64(4), int64(1), object(2)\n",
      "memory usage: 1.8+ MB\n"
     ]
    }
   ],
   "source": [
    "df = df.drop_duplicates()\n",
    "df.info()"
   ]
  },
  {
   "cell_type": "code",
   "execution_count": 6,
   "metadata": {},
   "outputs": [
    {
     "data": {
      "text/plain": [
       "ee820aa5-4804-4984-97b3-f0a71d69702f    4\n",
       "7d674c82-5501-4730-92c5-d241fd6911e7    4\n",
       "1c44e0a4-4612-438f-9a83-8d5bf919cb67    4\n",
       "0e03c2d7-9cea-4dc7-8e91-794a8b3ff58d    4\n",
       "76f71a93-8105-4c79-a010-0cfa86f0061a    4\n",
       "349f10b4-dc3e-4f3f-b2e4-a5b81448ce87    4\n",
       "31764d54-ea3b-434f-bae2-8c579ed13799    4\n",
       "3239951b-6211-4290-b237-3d9ad17176db    4\n",
       "0ab261f9-4eb5-42ab-a9a5-e918904d6356    4\n",
       "32408669-c137-4e8d-bd62-fe8345b40e73    4\n",
       "Name: patientId, dtype: int64"
      ]
     },
     "execution_count": 6,
     "metadata": {},
     "output_type": "execute_result"
    }
   ],
   "source": [
    "df['patientId'].value_counts().head(10)"
   ]
  },
  {
   "cell_type": "code",
   "execution_count": 7,
   "metadata": {},
   "outputs": [
    {
     "data": {
      "text/html": [
       "<div>\n",
       "<style scoped>\n",
       "    .dataframe tbody tr th:only-of-type {\n",
       "        vertical-align: middle;\n",
       "    }\n",
       "\n",
       "    .dataframe tbody tr th {\n",
       "        vertical-align: top;\n",
       "    }\n",
       "\n",
       "    .dataframe thead th {\n",
       "        text-align: right;\n",
       "    }\n",
       "</style>\n",
       "<table border=\"1\" class=\"dataframe\">\n",
       "  <thead>\n",
       "    <tr style=\"text-align: right;\">\n",
       "      <th></th>\n",
       "      <th>patientId</th>\n",
       "      <th>class</th>\n",
       "      <th>x</th>\n",
       "      <th>y</th>\n",
       "      <th>width</th>\n",
       "      <th>height</th>\n",
       "      <th>Target</th>\n",
       "    </tr>\n",
       "  </thead>\n",
       "  <tbody>\n",
       "    <tr>\n",
       "      <th>3433</th>\n",
       "      <td>32408669-c137-4e8d-bd62-fe8345b40e73</td>\n",
       "      <td>Lung Opacity</td>\n",
       "      <td>273.0</td>\n",
       "      <td>856.0</td>\n",
       "      <td>234.0</td>\n",
       "      <td>101.0</td>\n",
       "      <td>1</td>\n",
       "    </tr>\n",
       "    <tr>\n",
       "      <th>3434</th>\n",
       "      <td>32408669-c137-4e8d-bd62-fe8345b40e73</td>\n",
       "      <td>Lung Opacity</td>\n",
       "      <td>702.0</td>\n",
       "      <td>801.0</td>\n",
       "      <td>249.0</td>\n",
       "      <td>144.0</td>\n",
       "      <td>1</td>\n",
       "    </tr>\n",
       "    <tr>\n",
       "      <th>3435</th>\n",
       "      <td>32408669-c137-4e8d-bd62-fe8345b40e73</td>\n",
       "      <td>Lung Opacity</td>\n",
       "      <td>300.0</td>\n",
       "      <td>367.0</td>\n",
       "      <td>226.0</td>\n",
       "      <td>423.0</td>\n",
       "      <td>1</td>\n",
       "    </tr>\n",
       "    <tr>\n",
       "      <th>3436</th>\n",
       "      <td>32408669-c137-4e8d-bd62-fe8345b40e73</td>\n",
       "      <td>Lung Opacity</td>\n",
       "      <td>706.0</td>\n",
       "      <td>360.0</td>\n",
       "      <td>232.0</td>\n",
       "      <td>238.0</td>\n",
       "      <td>1</td>\n",
       "    </tr>\n",
       "  </tbody>\n",
       "</table>\n",
       "</div>"
      ],
      "text/plain": [
       "                                 patientId         class      x      y  width  \\\n",
       "3433  32408669-c137-4e8d-bd62-fe8345b40e73  Lung Opacity  273.0  856.0  234.0   \n",
       "3434  32408669-c137-4e8d-bd62-fe8345b40e73  Lung Opacity  702.0  801.0  249.0   \n",
       "3435  32408669-c137-4e8d-bd62-fe8345b40e73  Lung Opacity  300.0  367.0  226.0   \n",
       "3436  32408669-c137-4e8d-bd62-fe8345b40e73  Lung Opacity  706.0  360.0  232.0   \n",
       "\n",
       "      height  Target  \n",
       "3433   101.0       1  \n",
       "3434   144.0       1  \n",
       "3435   423.0       1  \n",
       "3436   238.0       1  "
      ]
     },
     "execution_count": 7,
     "metadata": {},
     "output_type": "execute_result"
    }
   ],
   "source": [
    "df[df['patientId'] == '32408669-c137-4e8d-bd62-fe8345b40e73']"
   ]
  },
  {
   "cell_type": "code",
   "execution_count": 8,
   "metadata": {},
   "outputs": [
    {
     "data": {
      "text/plain": [
       "1    23286\n",
       "2     3266\n",
       "3      119\n",
       "4       13\n",
       "Name: patientId, dtype: int64"
      ]
     },
     "execution_count": 8,
     "metadata": {},
     "output_type": "execute_result"
    }
   ],
   "source": [
    "df['patientId'].value_counts().value_counts()"
   ]
  },
  {
   "cell_type": "code",
   "execution_count": 9,
   "metadata": {},
   "outputs": [
    {
     "data": {
      "text/plain": [
       "1    20672\n",
       "Name: patientId, dtype: int64"
      ]
     },
     "execution_count": 9,
     "metadata": {},
     "output_type": "execute_result"
    }
   ],
   "source": [
    "df[df['Target'] == 0]['patientId'].value_counts().value_counts()"
   ]
  },
  {
   "cell_type": "code",
   "execution_count": 10,
   "metadata": {},
   "outputs": [
    {
     "data": {
      "image/png": "[encoded data removed]",
      "text/plain": [
       "<Figure size 432x288 with 1 Axes>"
      ]
     },
     "metadata": {
      "needs_background": "light"
     },
     "output_type": "display_data"
    }
   ],
   "source": [
    "sns.countplot(x = 'class', hue = 'Target', data = df);"
   ]
  },
  {
   "cell_type": "code",
   "execution_count": 11,
   "metadata": {},
   "outputs": [
    {
     "data": {
      "text/plain": [
       "1    9555\n",
       "Name: Target, dtype: int64"
      ]
     },
     "execution_count": 11,
     "metadata": {},
     "output_type": "execute_result"
    }
   ],
   "source": [
    "df[df['class'] == 'Lung Opacity']['Target'].value_counts(dropna = False)"
   ]
  },
  {
   "cell_type": "code",
   "execution_count": 12,
   "metadata": {},
   "outputs": [
    {
     "data": {
      "text/plain": [
       "0    11821\n",
       "Name: Target, dtype: int64"
      ]
     },
     "execution_count": 12,
     "metadata": {},
     "output_type": "execute_result"
    }
   ],
   "source": [
    "\n",
    "df[df['class'] == 'No Lung Opacity / Not Normal']['Target'].value_counts(dropna = False)"
   ]
  },
  {
   "cell_type": "code",
   "execution_count": 13,
   "metadata": {},
   "outputs": [
    {
     "data": {
      "text/plain": [
       "0    8851\n",
       "Name: Target, dtype: int64"
      ]
     },
     "execution_count": 13,
     "metadata": {},
     "output_type": "execute_result"
    }
   ],
   "source": [
    "df[df['class'] == 'Normal']['Target'].value_counts(dropna = False)"
   ]
  },
  {
   "cell_type": "code",
   "execution_count": 14,
   "metadata": {},
   "outputs": [
    {
     "name": "stdout",
     "output_type": "stream",
     "text": [
      "Patients can have 1 different classes\n"
     ]
    }
   ],
   "source": [
    "print('Patients can have {} different classes'.format(df.groupby('patientId')['class'].nunique().nunique()))"
   ]
  },
  {
   "cell_type": "code",
   "execution_count": 15,
   "metadata": {},
   "outputs": [
    {
     "data": {
      "text/html": [
       "<div>\n",
       "<style scoped>\n",
       "    .dataframe tbody tr th:only-of-type {\n",
       "        vertical-align: middle;\n",
       "    }\n",
       "\n",
       "    .dataframe tbody tr th {\n",
       "        vertical-align: top;\n",
       "    }\n",
       "\n",
       "    .dataframe thead th {\n",
       "        text-align: right;\n",
       "    }\n",
       "</style>\n",
       "<table border=\"1\" class=\"dataframe\">\n",
       "  <thead>\n",
       "    <tr style=\"text-align: right;\">\n",
       "      <th></th>\n",
       "      <th>x</th>\n",
       "      <th>y</th>\n",
       "      <th>width</th>\n",
       "      <th>height</th>\n",
       "      <th>x_2</th>\n",
       "      <th>y_2</th>\n",
       "      <th>x_center</th>\n",
       "      <th>y_center</th>\n",
       "      <th>area</th>\n",
       "    </tr>\n",
       "  </thead>\n",
       "  <tbody>\n",
       "    <tr>\n",
       "      <th>4</th>\n",
       "      <td>264.0</td>\n",
       "      <td>152.0</td>\n",
       "      <td>213.0</td>\n",
       "      <td>379.0</td>\n",
       "      <td>477.0</td>\n",
       "      <td>531.0</td>\n",
       "      <td>370.5</td>\n",
       "      <td>341.5</td>\n",
       "      <td>80727.0</td>\n",
       "    </tr>\n",
       "    <tr>\n",
       "      <th>5</th>\n",
       "      <td>562.0</td>\n",
       "      <td>152.0</td>\n",
       "      <td>256.0</td>\n",
       "      <td>453.0</td>\n",
       "      <td>818.0</td>\n",
       "      <td>605.0</td>\n",
       "      <td>690.0</td>\n",
       "      <td>378.5</td>\n",
       "      <td>115968.0</td>\n",
       "    </tr>\n",
       "    <tr>\n",
       "      <th>10</th>\n",
       "      <td>323.0</td>\n",
       "      <td>577.0</td>\n",
       "      <td>160.0</td>\n",
       "      <td>104.0</td>\n",
       "      <td>483.0</td>\n",
       "      <td>681.0</td>\n",
       "      <td>403.0</td>\n",
       "      <td>629.0</td>\n",
       "      <td>16640.0</td>\n",
       "    </tr>\n",
       "    <tr>\n",
       "      <th>11</th>\n",
       "      <td>695.0</td>\n",
       "      <td>575.0</td>\n",
       "      <td>162.0</td>\n",
       "      <td>137.0</td>\n",
       "      <td>857.0</td>\n",
       "      <td>712.0</td>\n",
       "      <td>776.0</td>\n",
       "      <td>643.5</td>\n",
       "      <td>22194.0</td>\n",
       "    </tr>\n",
       "    <tr>\n",
       "      <th>18</th>\n",
       "      <td>288.0</td>\n",
       "      <td>322.0</td>\n",
       "      <td>94.0</td>\n",
       "      <td>135.0</td>\n",
       "      <td>382.0</td>\n",
       "      <td>457.0</td>\n",
       "      <td>335.0</td>\n",
       "      <td>389.5</td>\n",
       "      <td>12690.0</td>\n",
       "    </tr>\n",
       "  </tbody>\n",
       "</table>\n",
       "</div>"
      ],
      "text/plain": [
       "        x      y  width  height    x_2    y_2  x_center  y_center      area\n",
       "4   264.0  152.0  213.0   379.0  477.0  531.0     370.5     341.5   80727.0\n",
       "5   562.0  152.0  256.0   453.0  818.0  605.0     690.0     378.5  115968.0\n",
       "10  323.0  577.0  160.0   104.0  483.0  681.0     403.0     629.0   16640.0\n",
       "11  695.0  575.0  162.0   137.0  857.0  712.0     776.0     643.5   22194.0\n",
       "18  288.0  322.0   94.0   135.0  382.0  457.0     335.0     389.5   12690.0"
      ]
     },
     "execution_count": 15,
     "metadata": {},
     "output_type": "execute_result"
    }
   ],
   "source": [
    "df_areas = df.dropna()[['x', 'y', 'width', 'height']].copy()\n",
    "df_areas['x_2'] = df_areas['x'] + df_areas['width']\n",
    "df_areas['y_2'] = df_areas['y'] + df_areas['height']\n",
    "df_areas['x_center'] = df_areas['x'] + df_areas['width'] / 2\n",
    "df_areas['y_center'] = df_areas['y'] + df_areas['height'] / 2\n",
    "df_areas['area'] = df_areas['width'] * df_areas['height']\n",
    "\n",
    "df_areas.head()"
   ]
  },
  {
   "cell_type": "code",
   "execution_count": 16,
   "metadata": {},
   "outputs": [
    {
     "data": {
      "image/png": "[encoded data removed]",
      "text/plain": [
       "<Figure size 432x432 with 3 Axes>"
      ]
     },
     "metadata": {
      "needs_background": "light"
     },
     "output_type": "display_data"
    }
   ],
   "source": [
    "sns.jointplot(x = 'x', y = 'y', data = df_areas, kind = 'hex', gridsize = 20);"
   ]
  },
  {
   "cell_type": "code",
   "execution_count": 17,
   "metadata": {},
   "outputs": [
    {
     "data": {
      "image/png": "[encoded data removed]",
      "text/plain": [
       "<Figure size 432x432 with 3 Axes>"
      ]
     },
     "metadata": {
      "needs_background": "light"
     },
     "output_type": "display_data"
    }
   ],
   "source": [
    "sns.jointplot(x = 'x_center', y = 'y_center', data = df_areas, kind = 'hex', gridsize = 20);"
   ]
  },
  {
   "cell_type": "code",
   "execution_count": 18,
   "metadata": {},
   "outputs": [
    {
     "data": {
      "image/png": "[encoded data removed]",
      "text/plain": [
       "<Figure size 432x432 with 3 Axes>"
      ]
     },
     "metadata": {
      "needs_background": "light"
     },
     "output_type": "display_data"
    }
   ],
   "source": [
    "sns.jointplot(x = 'x_2', y = 'y_2', data = df_areas, kind = 'hex', gridsize = 20);"
   ]
  },
  {
   "cell_type": "code",
   "execution_count": 19,
   "metadata": {},
   "outputs": [
    {
     "data": {
      "image/png": "[encoded data removed]",
      "text/plain": [
       "<Figure size 432x432 with 3 Axes>"
      ]
     },
     "metadata": {
      "needs_background": "light"
     },
     "output_type": "display_data"
    }
   ],
   "source": [
    "sns.jointplot(x = 'width', y = 'height', data = df_areas, kind = 'hex', gridsize = 20);"
   ]
  },
  {
   "cell_type": "code",
   "execution_count": 20,
   "metadata": {},
   "outputs": [
    {
     "data": {
      "image/png": "[encoded data removed]",
      "text/plain": [
       "<Figure size 1728x1080 with 9 Axes>"
      ]
     },
     "metadata": {
      "needs_background": "light"
     },
     "output_type": "display_data"
    }
   ],
   "source": [
    "n_columns = 3\n",
    "n_rows = 3\n",
    "_, axes = plt.subplots(n_rows, n_columns, figsize=(8 * n_columns, 5 * n_rows))\n",
    "for i, c in enumerate(df_areas.columns):\n",
    "    sns.boxplot(y = c, data = df_areas, ax = axes[i // n_columns, i % n_columns])\n",
    "plt.tight_layout()\n",
    "plt.show()"
   ]
  },
  {
   "cell_type": "code",
   "execution_count": 21,
   "metadata": {},
   "outputs": [
    {
     "data": {
      "text/html": [
       "<div>\n",
       "<style scoped>\n",
       "    .dataframe tbody tr th:only-of-type {\n",
       "        vertical-align: middle;\n",
       "    }\n",
       "\n",
       "    .dataframe tbody tr th {\n",
       "        vertical-align: top;\n",
       "    }\n",
       "\n",
       "    .dataframe thead th {\n",
       "        text-align: right;\n",
       "    }\n",
       "</style>\n",
       "<table border=\"1\" class=\"dataframe\">\n",
       "  <thead>\n",
       "    <tr style=\"text-align: right;\">\n",
       "      <th></th>\n",
       "      <th>x</th>\n",
       "      <th>y</th>\n",
       "      <th>width</th>\n",
       "      <th>height</th>\n",
       "      <th>x_2</th>\n",
       "      <th>y_2</th>\n",
       "      <th>x_center</th>\n",
       "      <th>y_center</th>\n",
       "      <th>area</th>\n",
       "    </tr>\n",
       "  </thead>\n",
       "  <tbody>\n",
       "    <tr>\n",
       "      <th>928</th>\n",
       "      <td>226.0</td>\n",
       "      <td>189.0</td>\n",
       "      <td>528.0</td>\n",
       "      <td>703.0</td>\n",
       "      <td>754.0</td>\n",
       "      <td>892.0</td>\n",
       "      <td>490.0</td>\n",
       "      <td>540.5</td>\n",
       "      <td>371184.0</td>\n",
       "    </tr>\n",
       "  </tbody>\n",
       "</table>\n",
       "</div>"
      ],
      "text/plain": [
       "         x      y  width  height    x_2    y_2  x_center  y_center      area\n",
       "928  226.0  189.0  528.0   703.0  754.0  892.0     490.0     540.5  371184.0"
      ]
     },
     "execution_count": 21,
     "metadata": {},
     "output_type": "execute_result"
    }
   ],
   "source": [
    "df_areas[df_areas['width'] > 500]\n"
   ]
  },
  {
   "cell_type": "code",
   "execution_count": 22,
   "metadata": {},
   "outputs": [
    {
     "data": {
      "text/html": [
       "<div>\n",
       "<style scoped>\n",
       "    .dataframe tbody tr th:only-of-type {\n",
       "        vertical-align: middle;\n",
       "    }\n",
       "\n",
       "    .dataframe tbody tr th {\n",
       "        vertical-align: top;\n",
       "    }\n",
       "\n",
       "    .dataframe thead th {\n",
       "        text-align: right;\n",
       "    }\n",
       "</style>\n",
       "<table border=\"1\" class=\"dataframe\">\n",
       "  <thead>\n",
       "    <tr style=\"text-align: right;\">\n",
       "      <th></th>\n",
       "      <th>patientId</th>\n",
       "      <th>class</th>\n",
       "      <th>x</th>\n",
       "      <th>y</th>\n",
       "      <th>width</th>\n",
       "      <th>height</th>\n",
       "      <th>Target</th>\n",
       "    </tr>\n",
       "  </thead>\n",
       "  <tbody>\n",
       "    <tr>\n",
       "      <th>928</th>\n",
       "      <td>097788d4-cb88-4457-8e71-0ca7a3da2216</td>\n",
       "      <td>Lung Opacity</td>\n",
       "      <td>226.0</td>\n",
       "      <td>189.0</td>\n",
       "      <td>528.0</td>\n",
       "      <td>703.0</td>\n",
       "      <td>1</td>\n",
       "    </tr>\n",
       "  </tbody>\n",
       "</table>\n",
       "</div>"
      ],
      "text/plain": [
       "                                patientId         class      x      y  width  \\\n",
       "928  097788d4-cb88-4457-8e71-0ca7a3da2216  Lung Opacity  226.0  189.0  528.0   \n",
       "\n",
       "     height  Target  \n",
       "928   703.0       1  "
      ]
     },
     "execution_count": 22,
     "metadata": {},
     "output_type": "execute_result"
    }
   ],
   "source": [
    "pid_width = list(df[df['width'] > 500]['patientId'].values)\n",
    "df[df['patientId'].isin(pid_width)]"
   ]
  },
  {
   "cell_type": "code",
   "execution_count": 23,
   "metadata": {},
   "outputs": [
    {
     "data": {
      "text/plain": [
       "2"
      ]
     },
     "execution_count": 23,
     "metadata": {},
     "output_type": "execute_result"
    }
   ],
   "source": [
    "df_areas[df_areas['height'] > 900].shape[0]\n"
   ]
  },
  {
   "cell_type": "code",
   "execution_count": 24,
   "metadata": {},
   "outputs": [
    {
     "data": {
      "text/html": [
       "<div>\n",
       "<style scoped>\n",
       "    .dataframe tbody tr th:only-of-type {\n",
       "        vertical-align: middle;\n",
       "    }\n",
       "\n",
       "    .dataframe tbody tr th {\n",
       "        vertical-align: top;\n",
       "    }\n",
       "\n",
       "    .dataframe thead th {\n",
       "        text-align: right;\n",
       "    }\n",
       "</style>\n",
       "<table border=\"1\" class=\"dataframe\">\n",
       "  <thead>\n",
       "    <tr style=\"text-align: right;\">\n",
       "      <th></th>\n",
       "      <th>patientId</th>\n",
       "      <th>class</th>\n",
       "      <th>x</th>\n",
       "      <th>y</th>\n",
       "      <th>width</th>\n",
       "      <th>height</th>\n",
       "      <th>Target</th>\n",
       "    </tr>\n",
       "  </thead>\n",
       "  <tbody>\n",
       "    <tr>\n",
       "      <th>5791</th>\n",
       "      <td>3ca6661a-ffbd-4d4d-b49b-c96cfd218307</td>\n",
       "      <td>Lung Opacity</td>\n",
       "      <td>87.0</td>\n",
       "      <td>104.0</td>\n",
       "      <td>310.0</td>\n",
       "      <td>793.0</td>\n",
       "      <td>1</td>\n",
       "    </tr>\n",
       "    <tr>\n",
       "      <th>5792</th>\n",
       "      <td>3ca6661a-ffbd-4d4d-b49b-c96cfd218307</td>\n",
       "      <td>Lung Opacity</td>\n",
       "      <td>549.0</td>\n",
       "      <td>82.0</td>\n",
       "      <td>280.0</td>\n",
       "      <td>942.0</td>\n",
       "      <td>1</td>\n",
       "    </tr>\n",
       "    <tr>\n",
       "      <th>6185</th>\n",
       "      <td>3e62e51c-befb-4a66-b28e-fc469b19e4a8</td>\n",
       "      <td>Lung Opacity</td>\n",
       "      <td>148.0</td>\n",
       "      <td>87.0</td>\n",
       "      <td>366.0</td>\n",
       "      <td>867.0</td>\n",
       "      <td>1</td>\n",
       "    </tr>\n",
       "    <tr>\n",
       "      <th>6186</th>\n",
       "      <td>3e62e51c-befb-4a66-b28e-fc469b19e4a8</td>\n",
       "      <td>Lung Opacity</td>\n",
       "      <td>620.0</td>\n",
       "      <td>82.0</td>\n",
       "      <td>335.0</td>\n",
       "      <td>942.0</td>\n",
       "      <td>1</td>\n",
       "    </tr>\n",
       "  </tbody>\n",
       "</table>\n",
       "</div>"
      ],
      "text/plain": [
       "                                 patientId         class      x      y  width  \\\n",
       "5791  3ca6661a-ffbd-4d4d-b49b-c96cfd218307  Lung Opacity   87.0  104.0  310.0   \n",
       "5792  3ca6661a-ffbd-4d4d-b49b-c96cfd218307  Lung Opacity  549.0   82.0  280.0   \n",
       "6185  3e62e51c-befb-4a66-b28e-fc469b19e4a8  Lung Opacity  148.0   87.0  366.0   \n",
       "6186  3e62e51c-befb-4a66-b28e-fc469b19e4a8  Lung Opacity  620.0   82.0  335.0   \n",
       "\n",
       "      height  Target  \n",
       "5791   793.0       1  \n",
       "5792   942.0       1  \n",
       "6185   867.0       1  \n",
       "6186   942.0       1  "
      ]
     },
     "execution_count": 24,
     "metadata": {},
     "output_type": "execute_result"
    }
   ],
   "source": [
    "pid_height = list(df[df['height'] > 900]['patientId'].values)\n",
    "df[df['patientId'].isin(pid_height)]"
   ]
  },
  {
   "cell_type": "code",
   "execution_count": 25,
   "metadata": {},
   "outputs": [
    {
     "data": {
      "text/plain": [
       "(30222, 7)"
      ]
     },
     "execution_count": 25,
     "metadata": {},
     "output_type": "execute_result"
    }
   ],
   "source": [
    "df = df[~df['patientId'].isin(pid_width + pid_height)]\n",
    "df.shape"
   ]
  },
  {
   "cell_type": "markdown",
   "metadata": {},
   "source": [
    "## Analisys of meta information\n"
   ]
  },
  {
   "cell_type": "code",
   "execution_count": 26,
   "metadata": {},
   "outputs": [],
   "source": [
    "df_meta = df.drop('class', axis = 1).copy()\n"
   ]
  },
  {
   "cell_type": "code",
   "execution_count": 27,
   "metadata": {},
   "outputs": [],
   "source": [
    "# dcm_columns = None\n",
    "# l_patients = len(df_meta['patientId'].unique())\n",
    "# for n, pid in enumerate(df_meta['patientId'].unique()):\n",
    "#     dcm_file = '../data/%s.dcm' % pid\n",
    "#     dcm_data = pydicom.read_file(dcm_file)\n",
    "#     print (f\"pid:{pid} {n}/{l_patients}\")\n",
    "#     if not dcm_columns:\n",
    "#         dcm_columns = dcm_data.dir()\n",
    "#         dcm_columns.remove('PixelSpacing')\n",
    "#         dcm_columns.remove('PixelData')\n",
    "    \n",
    "#     for col in dcm_columns:\n",
    "#         if not (col in df_meta.columns):\n",
    "#             df_meta[col] = np.nan\n",
    "#         index = df_meta[df_meta['patientId'] == pid].index\n",
    "#         df_meta.loc[index, col] = dcm_data.data_element(col).value\n",
    "        \n",
    "#     del dcm_data\n",
    "    \n",
    "# gc.collect()\n",
    "\n",
    "# df_meta.head()"
   ]
  },
  {
   "cell_type": "code",
   "execution_count": 63,
   "metadata": {},
   "outputs": [
    {
     "data": {
      "text/plain": [
       "Index(['Unnamed: 0', 'patientId', 'x', 'y', 'width', 'height', 'Target',\n",
       "       'AccessionNumber', 'BitsAllocated', 'BitsStored', 'BodyPartExamined',\n",
       "       'Columns', 'ConversionType', 'HighBit', 'InstanceNumber',\n",
       "       'LossyImageCompression', 'LossyImageCompressionMethod', 'Modality',\n",
       "       'PatientAge', 'PatientBirthDate', 'PatientID', 'PatientName',\n",
       "       'PatientOrientation', 'PatientSex', 'PhotometricInterpretation',\n",
       "       'PixelRepresentation', 'ReferringPhysicianName', 'Rows', 'SOPClassUID',\n",
       "       'SOPInstanceUID', 'SamplesPerPixel', 'SeriesDescription',\n",
       "       'SeriesInstanceUID', 'SeriesNumber', 'SpecificCharacterSet',\n",
       "       'StudyDate', 'StudyID', 'StudyInstanceUID', 'StudyTime',\n",
       "       'ViewPosition'],\n",
       "      dtype='object')"
      ]
     },
     "execution_count": 63,
     "metadata": {},
     "output_type": "execute_result"
    }
   ],
   "source": [
    "df_meta = pd.read_csv(\"patients_meta.csv\")\n",
    "df_meta.columns"
   ]
  },
  {
   "cell_type": "code",
   "execution_count": 65,
   "metadata": {},
   "outputs": [
    {
     "data": {
      "text/plain": [
       "Index(['Unnamed: 0', 'AccessionNumber', 'BitsAllocated', 'BitsStored',\n",
       "       'BodyPartExamined', 'Columns', 'ConversionType', 'HighBit',\n",
       "       'InstanceNumber', 'LossyImageCompression',\n",
       "       'LossyImageCompressionMethod', 'Modality', 'PatientBirthDate',\n",
       "       'PatientID', 'PatientName', 'PatientOrientation',\n",
       "       'PhotometricInterpretation', 'PixelRepresentation',\n",
       "       'ReferringPhysicianName', 'Rows', 'SOPClassUID', 'SOPInstanceUID',\n",
       "       'SamplesPerPixel', 'SeriesInstanceUID', 'SeriesNumber',\n",
       "       'SpecificCharacterSet', 'StudyDate', 'StudyID', 'StudyInstanceUID',\n",
       "       'StudyTime'],\n",
       "      dtype='object')"
      ]
     },
     "execution_count": 65,
     "metadata": {},
     "output_type": "execute_result"
    }
   ],
   "source": [
    "to_drop = df_meta.nunique()\n",
    "to_drop = to_drop[(to_drop <= 1) | (to_drop == to_drop['patientId']) | (to_drop == to_drop['Unnamed: 0'])].index\n",
    "to_drop = to_drop.drop('patientId')\n",
    "to_drop"
   ]
  },
  {
   "cell_type": "code",
   "execution_count": 66,
   "metadata": {},
   "outputs": [
    {
     "data": {
      "text/html": [
       "<div>\n",
       "<style scoped>\n",
       "    .dataframe tbody tr th:only-of-type {\n",
       "        vertical-align: middle;\n",
       "    }\n",
       "\n",
       "    .dataframe tbody tr th {\n",
       "        vertical-align: top;\n",
       "    }\n",
       "\n",
       "    .dataframe thead th {\n",
       "        text-align: right;\n",
       "    }\n",
       "</style>\n",
       "<table border=\"1\" class=\"dataframe\">\n",
       "  <thead>\n",
       "    <tr style=\"text-align: right;\">\n",
       "      <th></th>\n",
       "      <th>patientId</th>\n",
       "      <th>x</th>\n",
       "      <th>y</th>\n",
       "      <th>width</th>\n",
       "      <th>height</th>\n",
       "      <th>Target</th>\n",
       "      <th>PatientAge</th>\n",
       "      <th>PatientSex</th>\n",
       "      <th>SeriesDescription</th>\n",
       "      <th>ViewPosition</th>\n",
       "    </tr>\n",
       "  </thead>\n",
       "  <tbody>\n",
       "    <tr>\n",
       "      <th>0</th>\n",
       "      <td>0004cfab-14fd-4e49-80ba-63a80b6bddd6</td>\n",
       "      <td>NaN</td>\n",
       "      <td>NaN</td>\n",
       "      <td>NaN</td>\n",
       "      <td>NaN</td>\n",
       "      <td>0</td>\n",
       "      <td>51</td>\n",
       "      <td>F</td>\n",
       "      <td>view: PA</td>\n",
       "      <td>PA</td>\n",
       "    </tr>\n",
       "    <tr>\n",
       "      <th>1</th>\n",
       "      <td>00313ee0-9eaa-42f4-b0ab-c148ed3241cd</td>\n",
       "      <td>NaN</td>\n",
       "      <td>NaN</td>\n",
       "      <td>NaN</td>\n",
       "      <td>NaN</td>\n",
       "      <td>0</td>\n",
       "      <td>48</td>\n",
       "      <td>F</td>\n",
       "      <td>view: PA</td>\n",
       "      <td>PA</td>\n",
       "    </tr>\n",
       "    <tr>\n",
       "      <th>2</th>\n",
       "      <td>00322d4d-1c29-4943-afc9-b6754be640eb</td>\n",
       "      <td>NaN</td>\n",
       "      <td>NaN</td>\n",
       "      <td>NaN</td>\n",
       "      <td>NaN</td>\n",
       "      <td>0</td>\n",
       "      <td>19</td>\n",
       "      <td>M</td>\n",
       "      <td>view: AP</td>\n",
       "      <td>AP</td>\n",
       "    </tr>\n",
       "    <tr>\n",
       "      <th>3</th>\n",
       "      <td>003d8fa0-6bf1-40ed-b54c-ac657f8495c5</td>\n",
       "      <td>NaN</td>\n",
       "      <td>NaN</td>\n",
       "      <td>NaN</td>\n",
       "      <td>NaN</td>\n",
       "      <td>0</td>\n",
       "      <td>28</td>\n",
       "      <td>M</td>\n",
       "      <td>view: PA</td>\n",
       "      <td>PA</td>\n",
       "    </tr>\n",
       "    <tr>\n",
       "      <th>4</th>\n",
       "      <td>00436515-870c-4b36-a041-de91049b9ab4</td>\n",
       "      <td>264.0</td>\n",
       "      <td>152.0</td>\n",
       "      <td>213.0</td>\n",
       "      <td>379.0</td>\n",
       "      <td>1</td>\n",
       "      <td>32</td>\n",
       "      <td>F</td>\n",
       "      <td>view: AP</td>\n",
       "      <td>AP</td>\n",
       "    </tr>\n",
       "  </tbody>\n",
       "</table>\n",
       "</div>"
      ],
      "text/plain": [
       "                              patientId      x      y  width  height  Target  \\\n",
       "0  0004cfab-14fd-4e49-80ba-63a80b6bddd6    NaN    NaN    NaN     NaN       0   \n",
       "1  00313ee0-9eaa-42f4-b0ab-c148ed3241cd    NaN    NaN    NaN     NaN       0   \n",
       "2  00322d4d-1c29-4943-afc9-b6754be640eb    NaN    NaN    NaN     NaN       0   \n",
       "3  003d8fa0-6bf1-40ed-b54c-ac657f8495c5    NaN    NaN    NaN     NaN       0   \n",
       "4  00436515-870c-4b36-a041-de91049b9ab4  264.0  152.0  213.0   379.0       1   \n",
       "\n",
       "   PatientAge PatientSex SeriesDescription ViewPosition  \n",
       "0          51          F          view: PA           PA  \n",
       "1          48          F          view: PA           PA  \n",
       "2          19          M          view: AP           AP  \n",
       "3          28          M          view: PA           PA  \n",
       "4          32          F          view: AP           AP  "
      ]
     },
     "execution_count": 66,
     "metadata": {},
     "output_type": "execute_result"
    }
   ],
   "source": [
    "df_meta.drop(to_drop, axis = 1, inplace = True)\n",
    "df_meta.head()"
   ]
  },
  {
   "cell_type": "code",
   "execution_count": 67,
   "metadata": {},
   "outputs": [
    {
     "name": "stdout",
     "output_type": "stream",
     "text": [
      "Dropped 30 useless features\n"
     ]
    }
   ],
   "source": [
    "print('Dropped {} useless features'.format(len(to_drop)))\n"
   ]
  },
  {
   "cell_type": "code",
   "execution_count": 68,
   "metadata": {},
   "outputs": [
    {
     "data": {
      "text/plain": [
       "<matplotlib.axes._subplots.AxesSubplot at 0x7f12c85c79b0>"
      ]
     },
     "execution_count": 68,
     "metadata": {},
     "output_type": "execute_result"
    },
    {
     "data": {
      "image/png": "[encoded data removed]",
      "text/plain": [
       "<Figure size 432x288 with 1 Axes>"
      ]
     },
     "metadata": {
      "needs_background": "light"
     },
     "output_type": "display_data"
    }
   ],
   "source": [
    "sns.boxplot(x=\"PatientSex\", y=\"PatientAge\", data=df_meta)"
   ]
  },
  {
   "cell_type": "code",
   "execution_count": 56,
   "metadata": {},
   "outputs": [
    {
     "data": {
      "text/plain": [
       "<matplotlib.axes._subplots.AxesSubplot at 0x7f12c20d1518>"
      ]
     },
     "execution_count": 56,
     "metadata": {},
     "output_type": "execute_result"
    },
    {
     "data": {
      "image/png": "[encoded data removed]",
      "text/plain": [
       "<Figure size 432x288 with 1 Axes>"
      ]
     },
     "metadata": {
      "needs_background": "light"
     },
     "output_type": "display_data"
    }
   ],
   "source": [
    "sns.boxplot(x=\"ViewPosition\", y=\"PatientAge\", data=df_meta)"
   ]
  },
  {
   "cell_type": "code",
   "execution_count": 58,
   "metadata": {},
   "outputs": [
    {
     "data": {
      "text/plain": [
       "<matplotlib.axes._subplots.AxesSubplot at 0x7f12c30cd5c0>"
      ]
     },
     "execution_count": 58,
     "metadata": {},
     "output_type": "execute_result"
    },
    {
     "data": {
      "image/png": "[encoded data removed]",
      "text/plain": [
       "<Figure size 432x288 with 1 Axes>"
      ]
     },
     "metadata": {
      "needs_background": "light"
     },
     "output_type": "display_data"
    }
   ],
   "source": [
    "sns.boxplot(x=\"Target\", y=\"PatientAge\", data=df_meta)"
   ]
  },
  {
   "cell_type": "code",
   "execution_count": 34,
   "metadata": {},
   "outputs": [],
   "source": [
    "#sum(df_meta['ReferringPhysicianName'].unique() != '')\n"
   ]
  },
  {
   "cell_type": "code",
   "execution_count": 36,
   "metadata": {},
   "outputs": [],
   "source": [
    "#df_meta.drop('ReferringPhysicianName', axis = 1, inplace = True)\n"
   ]
  },
  {
   "cell_type": "code",
   "execution_count": 37,
   "metadata": {},
   "outputs": [
    {
     "data": {
      "text/html": [
       "<div>\n",
       "<style scoped>\n",
       "    .dataframe tbody tr th:only-of-type {\n",
       "        vertical-align: middle;\n",
       "    }\n",
       "\n",
       "    .dataframe tbody tr th {\n",
       "        vertical-align: top;\n",
       "    }\n",
       "\n",
       "    .dataframe thead th {\n",
       "        text-align: right;\n",
       "    }\n",
       "</style>\n",
       "<table border=\"1\" class=\"dataframe\">\n",
       "  <thead>\n",
       "    <tr style=\"text-align: right;\">\n",
       "      <th></th>\n",
       "      <th>Unnamed: 0</th>\n",
       "      <th>patientId</th>\n",
       "      <th>x</th>\n",
       "      <th>y</th>\n",
       "      <th>width</th>\n",
       "      <th>height</th>\n",
       "      <th>Target</th>\n",
       "      <th>PatientAge</th>\n",
       "      <th>PatientSex</th>\n",
       "      <th>SeriesDescription</th>\n",
       "      <th>ViewPosition</th>\n",
       "    </tr>\n",
       "  </thead>\n",
       "  <tbody>\n",
       "    <tr>\n",
       "      <th>0</th>\n",
       "      <td>0</td>\n",
       "      <td>0004cfab-14fd-4e49-80ba-63a80b6bddd6</td>\n",
       "      <td>NaN</td>\n",
       "      <td>NaN</td>\n",
       "      <td>NaN</td>\n",
       "      <td>NaN</td>\n",
       "      <td>0</td>\n",
       "      <td>51</td>\n",
       "      <td>F</td>\n",
       "      <td>PA</td>\n",
       "      <td>PA</td>\n",
       "    </tr>\n",
       "    <tr>\n",
       "      <th>1</th>\n",
       "      <td>1</td>\n",
       "      <td>00313ee0-9eaa-42f4-b0ab-c148ed3241cd</td>\n",
       "      <td>NaN</td>\n",
       "      <td>NaN</td>\n",
       "      <td>NaN</td>\n",
       "      <td>NaN</td>\n",
       "      <td>0</td>\n",
       "      <td>48</td>\n",
       "      <td>F</td>\n",
       "      <td>PA</td>\n",
       "      <td>PA</td>\n",
       "    </tr>\n",
       "    <tr>\n",
       "      <th>2</th>\n",
       "      <td>2</td>\n",
       "      <td>00322d4d-1c29-4943-afc9-b6754be640eb</td>\n",
       "      <td>NaN</td>\n",
       "      <td>NaN</td>\n",
       "      <td>NaN</td>\n",
       "      <td>NaN</td>\n",
       "      <td>0</td>\n",
       "      <td>19</td>\n",
       "      <td>M</td>\n",
       "      <td>AP</td>\n",
       "      <td>AP</td>\n",
       "    </tr>\n",
       "    <tr>\n",
       "      <th>3</th>\n",
       "      <td>3</td>\n",
       "      <td>003d8fa0-6bf1-40ed-b54c-ac657f8495c5</td>\n",
       "      <td>NaN</td>\n",
       "      <td>NaN</td>\n",
       "      <td>NaN</td>\n",
       "      <td>NaN</td>\n",
       "      <td>0</td>\n",
       "      <td>28</td>\n",
       "      <td>M</td>\n",
       "      <td>PA</td>\n",
       "      <td>PA</td>\n",
       "    </tr>\n",
       "    <tr>\n",
       "      <th>4</th>\n",
       "      <td>4</td>\n",
       "      <td>00436515-870c-4b36-a041-de91049b9ab4</td>\n",
       "      <td>264.0</td>\n",
       "      <td>152.0</td>\n",
       "      <td>213.0</td>\n",
       "      <td>379.0</td>\n",
       "      <td>1</td>\n",
       "      <td>32</td>\n",
       "      <td>F</td>\n",
       "      <td>AP</td>\n",
       "      <td>AP</td>\n",
       "    </tr>\n",
       "  </tbody>\n",
       "</table>\n",
       "</div>"
      ],
      "text/plain": [
       "   Unnamed: 0                             patientId      x      y  width  \\\n",
       "0           0  0004cfab-14fd-4e49-80ba-63a80b6bddd6    NaN    NaN    NaN   \n",
       "1           1  00313ee0-9eaa-42f4-b0ab-c148ed3241cd    NaN    NaN    NaN   \n",
       "2           2  00322d4d-1c29-4943-afc9-b6754be640eb    NaN    NaN    NaN   \n",
       "3           3  003d8fa0-6bf1-40ed-b54c-ac657f8495c5    NaN    NaN    NaN   \n",
       "4           4  00436515-870c-4b36-a041-de91049b9ab4  264.0  152.0  213.0   \n",
       "\n",
       "   height  Target  PatientAge PatientSex SeriesDescription ViewPosition  \n",
       "0     NaN       0          51          F                PA           PA  \n",
       "1     NaN       0          48          F                PA           PA  \n",
       "2     NaN       0          19          M                AP           AP  \n",
       "3     NaN       0          28          M                PA           PA  \n",
       "4   379.0       1          32          F                AP           AP  "
      ]
     },
     "execution_count": 37,
     "metadata": {},
     "output_type": "execute_result"
    }
   ],
   "source": [
    "df_meta['PatientAge'] = df_meta['PatientAge'].astype(int)\n",
    "df_meta['SeriesDescription'] = df_meta['SeriesDescription'].map({'view: AP': 'AP', 'view: PA': 'PA'})\n",
    "df_meta.head()"
   ]
  },
  {
   "cell_type": "code",
   "execution_count": 38,
   "metadata": {},
   "outputs": [
    {
     "name": "stdout",
     "output_type": "stream",
     "text": [
      "There are 30222 equal elements between SeriesDescription and ViewPosition from 30222.\n"
     ]
    }
   ],
   "source": [
    "print('There are {} equal elements between SeriesDescription and ViewPosition from {}.' \\\n",
    "      .format(sum(df_meta['SeriesDescription'] == df_meta['ViewPosition']), df_meta.shape[0]))"
   ]
  },
  {
   "cell_type": "code",
   "execution_count": 39,
   "metadata": {},
   "outputs": [],
   "source": [
    "df_meta.drop('SeriesDescription', axis = 1, inplace = True)\n"
   ]
  },
  {
   "cell_type": "markdown",
   "metadata": {},
   "source": [
    "Dropped one feature wich is equal another.\n",
    "\n"
   ]
  },
  {
   "cell_type": "code",
   "execution_count": 40,
   "metadata": {},
   "outputs": [
    {
     "data": {
      "image/png": "[encoded data removed]",
      "text/plain": [
       "<Figure size 1800x360 with 1 Axes>"
      ]
     },
     "metadata": {
      "needs_background": "light"
     },
     "output_type": "display_data"
    }
   ],
   "source": [
    "plt.figure(figsize = (25, 5))\n",
    "sns.countplot(x = 'PatientAge', hue = 'Target', data = df_meta);"
   ]
  },
  {
   "cell_type": "code",
   "execution_count": 41,
   "metadata": {},
   "outputs": [
    {
     "data": {
      "image/png": "[encoded data removed]",
      "text/plain": [
       "<Figure size 432x288 with 1 Axes>"
      ]
     },
     "metadata": {
      "needs_background": "light"
     },
     "output_type": "display_data"
    }
   ],
   "source": [
    "sns.countplot(x = 'PatientSex', hue = 'Target', data = df_meta);\n"
   ]
  },
  {
   "cell_type": "code",
   "execution_count": 42,
   "metadata": {},
   "outputs": [
    {
     "data": {
      "image/png": "[encoded data removed]",
      "text/plain": [
       "<Figure size 432x288 with 1 Axes>"
      ]
     },
     "metadata": {
      "needs_background": "light"
     },
     "output_type": "display_data"
    }
   ],
   "source": [
    "sns.countplot(x = 'ViewPosition', hue = 'Target', data = df_meta);\n"
   ]
  },
  {
   "cell_type": "code",
   "execution_count": 69,
   "metadata": {},
   "outputs": [
    {
     "data": {
      "text/html": [
       "<div>\n",
       "<style scoped>\n",
       "    .dataframe tbody tr th:only-of-type {\n",
       "        vertical-align: middle;\n",
       "    }\n",
       "\n",
       "    .dataframe tbody tr th {\n",
       "        vertical-align: top;\n",
       "    }\n",
       "\n",
       "    .dataframe thead th {\n",
       "        text-align: right;\n",
       "    }\n",
       "</style>\n",
       "<table border=\"1\" class=\"dataframe\">\n",
       "  <thead>\n",
       "    <tr style=\"text-align: right;\">\n",
       "      <th></th>\n",
       "      <th>patientId</th>\n",
       "      <th>x</th>\n",
       "      <th>y</th>\n",
       "      <th>width</th>\n",
       "      <th>height</th>\n",
       "      <th>Target</th>\n",
       "      <th>PatientAge</th>\n",
       "      <th>PatientSex</th>\n",
       "      <th>SeriesDescription</th>\n",
       "      <th>ViewPosition</th>\n",
       "    </tr>\n",
       "  </thead>\n",
       "  <tbody>\n",
       "    <tr>\n",
       "      <th>0</th>\n",
       "      <td>0004cfab-14fd-4e49-80ba-63a80b6bddd6</td>\n",
       "      <td>NaN</td>\n",
       "      <td>NaN</td>\n",
       "      <td>NaN</td>\n",
       "      <td>NaN</td>\n",
       "      <td>0</td>\n",
       "      <td>51</td>\n",
       "      <td>0</td>\n",
       "      <td>view: PA</td>\n",
       "      <td>0</td>\n",
       "    </tr>\n",
       "    <tr>\n",
       "      <th>1</th>\n",
       "      <td>00313ee0-9eaa-42f4-b0ab-c148ed3241cd</td>\n",
       "      <td>NaN</td>\n",
       "      <td>NaN</td>\n",
       "      <td>NaN</td>\n",
       "      <td>NaN</td>\n",
       "      <td>0</td>\n",
       "      <td>48</td>\n",
       "      <td>0</td>\n",
       "      <td>view: PA</td>\n",
       "      <td>0</td>\n",
       "    </tr>\n",
       "    <tr>\n",
       "      <th>2</th>\n",
       "      <td>00322d4d-1c29-4943-afc9-b6754be640eb</td>\n",
       "      <td>NaN</td>\n",
       "      <td>NaN</td>\n",
       "      <td>NaN</td>\n",
       "      <td>NaN</td>\n",
       "      <td>0</td>\n",
       "      <td>19</td>\n",
       "      <td>1</td>\n",
       "      <td>view: AP</td>\n",
       "      <td>1</td>\n",
       "    </tr>\n",
       "    <tr>\n",
       "      <th>3</th>\n",
       "      <td>003d8fa0-6bf1-40ed-b54c-ac657f8495c5</td>\n",
       "      <td>NaN</td>\n",
       "      <td>NaN</td>\n",
       "      <td>NaN</td>\n",
       "      <td>NaN</td>\n",
       "      <td>0</td>\n",
       "      <td>28</td>\n",
       "      <td>1</td>\n",
       "      <td>view: PA</td>\n",
       "      <td>0</td>\n",
       "    </tr>\n",
       "    <tr>\n",
       "      <th>4</th>\n",
       "      <td>00436515-870c-4b36-a041-de91049b9ab4</td>\n",
       "      <td>264.0</td>\n",
       "      <td>152.0</td>\n",
       "      <td>213.0</td>\n",
       "      <td>379.0</td>\n",
       "      <td>1</td>\n",
       "      <td>32</td>\n",
       "      <td>0</td>\n",
       "      <td>view: AP</td>\n",
       "      <td>1</td>\n",
       "    </tr>\n",
       "  </tbody>\n",
       "</table>\n",
       "</div>"
      ],
      "text/plain": [
       "                              patientId      x      y  width  height  Target  \\\n",
       "0  0004cfab-14fd-4e49-80ba-63a80b6bddd6    NaN    NaN    NaN     NaN       0   \n",
       "1  00313ee0-9eaa-42f4-b0ab-c148ed3241cd    NaN    NaN    NaN     NaN       0   \n",
       "2  00322d4d-1c29-4943-afc9-b6754be640eb    NaN    NaN    NaN     NaN       0   \n",
       "3  003d8fa0-6bf1-40ed-b54c-ac657f8495c5    NaN    NaN    NaN     NaN       0   \n",
       "4  00436515-870c-4b36-a041-de91049b9ab4  264.0  152.0  213.0   379.0       1   \n",
       "\n",
       "   PatientAge  PatientSex SeriesDescription  ViewPosition  \n",
       "0          51           0          view: PA             0  \n",
       "1          48           0          view: PA             0  \n",
       "2          19           1          view: AP             1  \n",
       "3          28           1          view: PA             0  \n",
       "4          32           0          view: AP             1  "
      ]
     },
     "execution_count": 69,
     "metadata": {},
     "output_type": "execute_result"
    }
   ],
   "source": [
    "df_meta['PatientSex'] = df_meta['PatientSex'].map({'F': 0, 'M': 1})\n",
    "df_meta['ViewPosition'] = df_meta['ViewPosition'].map({'PA': 0, 'AP': 1})\n",
    "df_meta.head()"
   ]
  },
  {
   "cell_type": "code",
   "execution_count": 70,
   "metadata": {},
   "outputs": [
    {
     "data": {
      "text/html": [
       "<div>\n",
       "<style scoped>\n",
       "    .dataframe tbody tr th:only-of-type {\n",
       "        vertical-align: middle;\n",
       "    }\n",
       "\n",
       "    .dataframe tbody tr th {\n",
       "        vertical-align: top;\n",
       "    }\n",
       "\n",
       "    .dataframe thead th {\n",
       "        text-align: right;\n",
       "    }\n",
       "</style>\n",
       "<table border=\"1\" class=\"dataframe\">\n",
       "  <thead>\n",
       "    <tr style=\"text-align: right;\">\n",
       "      <th></th>\n",
       "      <th>x</th>\n",
       "      <th>y</th>\n",
       "      <th>width</th>\n",
       "      <th>height</th>\n",
       "      <th>Target</th>\n",
       "      <th>PatientAge</th>\n",
       "      <th>PatientSex</th>\n",
       "      <th>ViewPosition</th>\n",
       "    </tr>\n",
       "  </thead>\n",
       "  <tbody>\n",
       "    <tr>\n",
       "      <th>x</th>\n",
       "      <td>1.000000</td>\n",
       "      <td>0.007369</td>\n",
       "      <td>-0.058112</td>\n",
       "      <td>0.008622</td>\n",
       "      <td>NaN</td>\n",
       "      <td>-0.016029</td>\n",
       "      <td>-0.017303</td>\n",
       "      <td>0.022340</td>\n",
       "    </tr>\n",
       "    <tr>\n",
       "      <th>y</th>\n",
       "      <td>0.007369</td>\n",
       "      <td>1.000000</td>\n",
       "      <td>-0.298747</td>\n",
       "      <td>-0.644716</td>\n",
       "      <td>NaN</td>\n",
       "      <td>0.104031</td>\n",
       "      <td>0.052771</td>\n",
       "      <td>-0.124396</td>\n",
       "    </tr>\n",
       "    <tr>\n",
       "      <th>width</th>\n",
       "      <td>-0.058112</td>\n",
       "      <td>-0.298747</td>\n",
       "      <td>1.000000</td>\n",
       "      <td>0.596605</td>\n",
       "      <td>NaN</td>\n",
       "      <td>0.027618</td>\n",
       "      <td>0.123828</td>\n",
       "      <td>0.087007</td>\n",
       "    </tr>\n",
       "    <tr>\n",
       "      <th>height</th>\n",
       "      <td>0.008622</td>\n",
       "      <td>-0.644716</td>\n",
       "      <td>0.596605</td>\n",
       "      <td>1.000000</td>\n",
       "      <td>NaN</td>\n",
       "      <td>-0.005576</td>\n",
       "      <td>0.053366</td>\n",
       "      <td>0.275493</td>\n",
       "    </tr>\n",
       "    <tr>\n",
       "      <th>Target</th>\n",
       "      <td>NaN</td>\n",
       "      <td>NaN</td>\n",
       "      <td>NaN</td>\n",
       "      <td>NaN</td>\n",
       "      <td>1.000000</td>\n",
       "      <td>-0.056822</td>\n",
       "      <td>0.016831</td>\n",
       "      <td>0.420057</td>\n",
       "    </tr>\n",
       "    <tr>\n",
       "      <th>PatientAge</th>\n",
       "      <td>-0.016029</td>\n",
       "      <td>0.104031</td>\n",
       "      <td>0.027618</td>\n",
       "      <td>-0.005576</td>\n",
       "      <td>-0.056822</td>\n",
       "      <td>1.000000</td>\n",
       "      <td>-0.009742</td>\n",
       "      <td>-0.060294</td>\n",
       "    </tr>\n",
       "    <tr>\n",
       "      <th>PatientSex</th>\n",
       "      <td>-0.017303</td>\n",
       "      <td>0.052771</td>\n",
       "      <td>0.123828</td>\n",
       "      <td>0.053366</td>\n",
       "      <td>0.016831</td>\n",
       "      <td>-0.009742</td>\n",
       "      <td>1.000000</td>\n",
       "      <td>0.016830</td>\n",
       "    </tr>\n",
       "    <tr>\n",
       "      <th>ViewPosition</th>\n",
       "      <td>0.022340</td>\n",
       "      <td>-0.124396</td>\n",
       "      <td>0.087007</td>\n",
       "      <td>0.275493</td>\n",
       "      <td>0.420057</td>\n",
       "      <td>-0.060294</td>\n",
       "      <td>0.016830</td>\n",
       "      <td>1.000000</td>\n",
       "    </tr>\n",
       "  </tbody>\n",
       "</table>\n",
       "</div>"
      ],
      "text/plain": [
       "                     x         y     width    height    Target  PatientAge  \\\n",
       "x             1.000000  0.007369 -0.058112  0.008622       NaN   -0.016029   \n",
       "y             0.007369  1.000000 -0.298747 -0.644716       NaN    0.104031   \n",
       "width        -0.058112 -0.298747  1.000000  0.596605       NaN    0.027618   \n",
       "height        0.008622 -0.644716  0.596605  1.000000       NaN   -0.005576   \n",
       "Target             NaN       NaN       NaN       NaN  1.000000   -0.056822   \n",
       "PatientAge   -0.016029  0.104031  0.027618 -0.005576 -0.056822    1.000000   \n",
       "PatientSex   -0.017303  0.052771  0.123828  0.053366  0.016831   -0.009742   \n",
       "ViewPosition  0.022340 -0.124396  0.087007  0.275493  0.420057   -0.060294   \n",
       "\n",
       "              PatientSex  ViewPosition  \n",
       "x              -0.017303      0.022340  \n",
       "y               0.052771     -0.124396  \n",
       "width           0.123828      0.087007  \n",
       "height          0.053366      0.275493  \n",
       "Target          0.016831      0.420057  \n",
       "PatientAge     -0.009742     -0.060294  \n",
       "PatientSex      1.000000      0.016830  \n",
       "ViewPosition    0.016830      1.000000  "
      ]
     },
     "execution_count": 70,
     "metadata": {},
     "output_type": "execute_result"
    }
   ],
   "source": [
    "df_meta.corr()"
   ]
  },
  {
   "cell_type": "markdown",
   "metadata": {},
   "source": [
    "ViewPosition' have a high correlation with 'Target' and 'height' features. It can be useful..."
   ]
  },
  {
   "cell_type": "markdown",
   "metadata": {},
   "source": [
    "It can be useful to predict Target for selecting images with pneumonia.\n",
    "\n",
    "There is no useful information in meta data for prediction spatial features directly."
   ]
  },
  {
   "cell_type": "code",
   "execution_count": 71,
   "metadata": {},
   "outputs": [
    {
     "data": {
      "text/html": [
       "<div>\n",
       "<style scoped>\n",
       "    .dataframe tbody tr th:only-of-type {\n",
       "        vertical-align: middle;\n",
       "    }\n",
       "\n",
       "    .dataframe tbody tr th {\n",
       "        vertical-align: top;\n",
       "    }\n",
       "\n",
       "    .dataframe thead th {\n",
       "        text-align: right;\n",
       "    }\n",
       "</style>\n",
       "<table border=\"1\" class=\"dataframe\">\n",
       "  <thead>\n",
       "    <tr style=\"text-align: right;\">\n",
       "      <th></th>\n",
       "      <th>x</th>\n",
       "      <th>y</th>\n",
       "      <th>width</th>\n",
       "      <th>height</th>\n",
       "      <th>Target</th>\n",
       "      <th>PatientAge</th>\n",
       "      <th>PatientSex</th>\n",
       "      <th>ViewPosition</th>\n",
       "    </tr>\n",
       "  </thead>\n",
       "  <tbody>\n",
       "    <tr>\n",
       "      <th>x</th>\n",
       "      <td>1.000000</td>\n",
       "      <td>0.007369</td>\n",
       "      <td>-0.058112</td>\n",
       "      <td>0.008622</td>\n",
       "      <td>NaN</td>\n",
       "      <td>-0.016029</td>\n",
       "      <td>-0.017303</td>\n",
       "      <td>0.022340</td>\n",
       "    </tr>\n",
       "    <tr>\n",
       "      <th>y</th>\n",
       "      <td>0.007369</td>\n",
       "      <td>1.000000</td>\n",
       "      <td>-0.298747</td>\n",
       "      <td>-0.644716</td>\n",
       "      <td>NaN</td>\n",
       "      <td>0.104031</td>\n",
       "      <td>0.052771</td>\n",
       "      <td>-0.124396</td>\n",
       "    </tr>\n",
       "    <tr>\n",
       "      <th>width</th>\n",
       "      <td>-0.058112</td>\n",
       "      <td>-0.298747</td>\n",
       "      <td>1.000000</td>\n",
       "      <td>0.596605</td>\n",
       "      <td>NaN</td>\n",
       "      <td>0.027618</td>\n",
       "      <td>0.123828</td>\n",
       "      <td>0.087007</td>\n",
       "    </tr>\n",
       "    <tr>\n",
       "      <th>height</th>\n",
       "      <td>0.008622</td>\n",
       "      <td>-0.644716</td>\n",
       "      <td>0.596605</td>\n",
       "      <td>1.000000</td>\n",
       "      <td>NaN</td>\n",
       "      <td>-0.005576</td>\n",
       "      <td>0.053366</td>\n",
       "      <td>0.275493</td>\n",
       "    </tr>\n",
       "    <tr>\n",
       "      <th>Target</th>\n",
       "      <td>NaN</td>\n",
       "      <td>NaN</td>\n",
       "      <td>NaN</td>\n",
       "      <td>NaN</td>\n",
       "      <td>NaN</td>\n",
       "      <td>NaN</td>\n",
       "      <td>NaN</td>\n",
       "      <td>NaN</td>\n",
       "    </tr>\n",
       "    <tr>\n",
       "      <th>PatientAge</th>\n",
       "      <td>-0.016029</td>\n",
       "      <td>0.104031</td>\n",
       "      <td>0.027618</td>\n",
       "      <td>-0.005576</td>\n",
       "      <td>NaN</td>\n",
       "      <td>1.000000</td>\n",
       "      <td>-0.051140</td>\n",
       "      <td>-0.063760</td>\n",
       "    </tr>\n",
       "    <tr>\n",
       "      <th>PatientSex</th>\n",
       "      <td>-0.017303</td>\n",
       "      <td>0.052771</td>\n",
       "      <td>0.123828</td>\n",
       "      <td>0.053366</td>\n",
       "      <td>NaN</td>\n",
       "      <td>-0.051140</td>\n",
       "      <td>1.000000</td>\n",
       "      <td>-0.014757</td>\n",
       "    </tr>\n",
       "    <tr>\n",
       "      <th>ViewPosition</th>\n",
       "      <td>0.022340</td>\n",
       "      <td>-0.124396</td>\n",
       "      <td>0.087007</td>\n",
       "      <td>0.275493</td>\n",
       "      <td>NaN</td>\n",
       "      <td>-0.063760</td>\n",
       "      <td>-0.014757</td>\n",
       "      <td>1.000000</td>\n",
       "    </tr>\n",
       "  </tbody>\n",
       "</table>\n",
       "</div>"
      ],
      "text/plain": [
       "                     x         y     width    height  Target  PatientAge  \\\n",
       "x             1.000000  0.007369 -0.058112  0.008622     NaN   -0.016029   \n",
       "y             0.007369  1.000000 -0.298747 -0.644716     NaN    0.104031   \n",
       "width        -0.058112 -0.298747  1.000000  0.596605     NaN    0.027618   \n",
       "height        0.008622 -0.644716  0.596605  1.000000     NaN   -0.005576   \n",
       "Target             NaN       NaN       NaN       NaN     NaN         NaN   \n",
       "PatientAge   -0.016029  0.104031  0.027618 -0.005576     NaN    1.000000   \n",
       "PatientSex   -0.017303  0.052771  0.123828  0.053366     NaN   -0.051140   \n",
       "ViewPosition  0.022340 -0.124396  0.087007  0.275493     NaN   -0.063760   \n",
       "\n",
       "              PatientSex  ViewPosition  \n",
       "x              -0.017303      0.022340  \n",
       "y               0.052771     -0.124396  \n",
       "width           0.123828      0.087007  \n",
       "height          0.053366      0.275493  \n",
       "Target               NaN           NaN  \n",
       "PatientAge     -0.051140     -0.063760  \n",
       "PatientSex      1.000000     -0.014757  \n",
       "ViewPosition   -0.014757      1.000000  "
      ]
     },
     "execution_count": 71,
     "metadata": {},
     "output_type": "execute_result"
    }
   ],
   "source": [
    "df_meta[df_meta.Target == 1.0].corr()"
   ]
  },
  {
   "cell_type": "markdown",
   "metadata": {},
   "source": [
    "## Conclusion\n",
    "\"class == Lung Opacity\" is equivalent to \"Target == 1\" or \"image has pneumonia areas\". But the advantage of it is doubtful, because test images have not such information.\n",
    "\n",
    "5 rows (3 patients) have been dropped as obvious outliers.\n",
    "\n",
    "It can be useful to predict 'Target' directly with meta information ('PatientAge', 'PatientSex', 'ViewPosition') for preliminary selecting images with pneumonia from the test set.\n",
    "\n",
    "There is no useful information in meta data for directly prediction spatial features."
   ]
  }
 ],
 "metadata": {
  "kernelspec": {
   "display_name": "Python 3",
   "language": "python",
   "name": "python3"
  },
  "language_info": {
   "codemirror_mode": {
    "name": "ipython",
    "version": 3
   },
   "file_extension": ".py",
   "mimetype": "text/x-python",
   "name": "python",
   "nbconvert_exporter": "python",
   "pygments_lexer": "ipython3",
   "version": "3.6.7"
  }
 },
 "nbformat": 4,
 "nbformat_minor": 2
}
